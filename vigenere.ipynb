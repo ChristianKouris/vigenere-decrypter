{
  "nbformat": 4,
  "nbformat_minor": 0,
  "metadata": {
    "colab": {
      "name": "vigenere.ipynb",
      "provenance": [],
      "collapsed_sections": [],
      "authorship_tag": "ABX9TyMYzzmDv+FP9h8cSX4BmWdX",
      "include_colab_link": true
    },
    "kernelspec": {
      "name": "python3",
      "display_name": "Python 3"
    }
  },
  "cells": [
    {
      "cell_type": "markdown",
      "metadata": {
        "id": "view-in-github",
        "colab_type": "text"
      },
      "source": [
        "<a href=\"https://colab.research.google.com/github/ChristianKouris/vignere-decrypter/blob/main/vigenere.ipynb\" target=\"_parent\"><img src=\"https://colab.research.google.com/assets/colab-badge.svg\" alt=\"Open In Colab\"/></a>"
      ]
    },
    {
      "cell_type": "code",
      "metadata": {
        "id": "6DEGBY7tAsua"
      },
      "source": [
        "import matplotlib.pyplot as plt\n",
        "import numpy as np\n",
        "#guess the length of the key\n",
        "l = 7\n",
        "#example encrypted text\n",
        "text = 'PZAXGYJAKNTVMJLIVXXBKKEXYIFAJFAHRCYJAVFYHEJMCBSHDHHNMVUJZRXKQYZVGALSWE\\\n",
        "LFHFSMPCUBBFFUIKNGEVHPZPNFCMBUCHYMZPSRMEFYVYVNRCYHFRHRMWUPOTGCHPFJMMHC\\\n",
        "IDXTHYYVYVXVWAHEBNGBEAUBBQJKYFJGXZKYADKKFKIMUXGIJVYHTRXKBDWTXCKUMULIWQ\\\n",
        "YUCRXIDHHNLXLKUSNGGLUWFRHRMPHZMTVXOATNWIPASAYFIHPHZMKSVQZFJWSJPPAWHJMP\\\n",
        "YAWZIHYYKYMMIJPEJDISPVAUMSMAJGAXGIITQAVIUJKFATHYOHRNZYUNKBABZUPLUWYSLI\\\n",
        "HFRHRJNVYXMIZNLQNQTLAZERHRUJKMBLSWEHFRHRUJKECKIHCATNGGSXLDBXGONPFHMLYZ\\\n",
        "LBJKXGAUFRLSHPOQOKSHPSUWXWIBATNYMADAMPTMHOAOHUILYYUVXEHZDQTGSQBPDBMLUJ\\\n",
        "KFQXHUIHSNMLUPJMWUIWWBENWFSPOABXABKLJYESCPCGUGILWIXNTRXEUENVYLAZKBMIGO\\\n",
        "DQBNTJKYFJGHYJJADKEAAATNNWYKMENVYLAUQCPSLGZFXIVYRLZCVCVAYFQKIUPZFXHYLY\\\n",
        "YUCBGUHUMCBSHWSUWYVUOADDVXONLADKMHPLXUXGNQHXYKSJAYFHTRXKBDMTXUOVMBMSJN\\\n",
        "VYXMIIQYAEXVUHSEJYINUHYNKMWWUORMMTAUELTVYZLQYECUXVGCIVCRHOHTRXNPSQMPSO\\\n",
        "VYJGCWKTBJGMYOOMEXFYAUDNLTIJKUWZXIWTMADINZLYJGHZKYBAHHOYAEJGHMAYHRVIMP\\\n",
        "OMCIVIPLOCMLYLYUETGSWUPBXGONPFHHJNDLUAVYMPVYNKWNDPEQTWAAUQATXYZWABBXCR\\\n",
        "LUWGSPWAUXGXBWATJLFYAUOANGCWSFXMLYZPSRMEFAJAWHQSSLFXHGUNLMKHYNPOQBXMGL\\\n",
        "VDCTRNLYUWVMJHLERGHYAKUCBWIQYAKEMAWAUXGXIQWTXEHWECUUEMVAYFRXWCJJXDWMHC\\\n",
        "ATNKMADAFXIVCRHOHPIBWCQJEAUUZDNLTYYAQMMLYBBZMTQYJAMUKMADAAOIIILSQCHIHC\\\n",
        "HSNBRJNPHJMIWKTYDGMWWAUXGWLANMAWPYOZAOMLYILPRNQINAQLARIHVSHPLYPOQABXCO\\\n",
        "PZBMEHPTQBLEAAZFNQXMKYAUWJUOOUXGIXHLFCXVMYPFRSIHOOMEXXBAYUPAXNKJAVFYHE'"
      ],
      "execution_count": 31,
      "outputs": []
    },
    {
      "cell_type": "code",
      "metadata": {
        "colab": {
          "base_uri": "https://localhost:8080/"
        },
        "id": "u4BEa9e6N2qo",
        "outputId": "ff042a11-5db8-4e0e-b47c-3a379f683c0a"
      },
      "source": [
        "#using Kasiski examination to find the possible lengths of the key\n",
        "patterns = []\n",
        "lengths = []\n",
        "divisors = []\n",
        "\n",
        "for i in range(len(text)-l):\n",
        "  if text.count(text[i:i+l]) > 1:\n",
        "    patterns.append(text[i:i+l])\n",
        "\n",
        "for i in patterns:\n",
        "  if patterns.count(i) > 1:\n",
        "    patterns.remove(i)\n",
        "\n",
        "for i in patterns:\n",
        "  lengths.append(text.rfind(i)-text.find(i)+l)\n",
        "\n",
        "for i in range(min(lengths)):\n",
        "  divisor = True;\n",
        "  for length in lengths:\n",
        "    if length%(i+1) != 0:\n",
        "      divisor = False;\n",
        "      break\n",
        "  if divisor:\n",
        "    divisors.append(i+1)\n",
        "print(divisors)"
      ],
      "execution_count": 32,
      "outputs": [
        {
          "output_type": "stream",
          "text": [
            "[1, 7]\n"
          ],
          "name": "stdout"
        }
      ]
    },
    {
      "cell_type": "code",
      "metadata": {
        "colab": {
          "base_uri": "https://localhost:8080/",
          "height": 1000
        },
        "id": "4h8hEA1wgPSJ",
        "outputId": "3f260b04-b9ef-4e44-d8a5-5e9d62d9c50d"
      },
      "source": [
        "#use one of the common divisors as a key length\n",
        "kl = divisors[-1]\n",
        "#using frequency analysis for each letter of the key to determine what the key is\n",
        "rows_of_kl = []\n",
        "while len(text) > 0:\n",
        "  rows_of_kl.append(text[:kl])\n",
        "  text = text[kl:]\n",
        "\n",
        "alphabet = []\n",
        "for i in range(ord('Z')-ord('A')+1):\n",
        "  alphabet.append(0);\n",
        "\n",
        "letters = []\n",
        "for i in range(kl):\n",
        "  letters.append(alphabet[:])\n",
        "\n",
        "for i in rows_of_kl:\n",
        "  for j in range(len(i)):\n",
        "    letters[j][ord(i[j])-ord('A')] = letters[j][ord(i[j])-ord('A')] + 1\n",
        "\n",
        "for i in range(len(letters)):\n",
        "  x = []\n",
        "  y = []\n",
        "  for j in range(len(letters[i])):\n",
        "    x.append(chr(j+ord('A')))\n",
        "    y.append(letters[i][j])\n",
        "  plt.bar(x,y)\n",
        "  print(\"letter: \" + str(i))\n",
        "  plt.show()\n",
        "\n"
      ],
      "execution_count": 33,
      "outputs": [
        {
          "output_type": "stream",
          "text": [
            "letter: 0\n"
          ],
          "name": "stdout"
        },
        {
          "output_type": "display_data",
          "data": {
            "image/png": "[encoded data removed]",
            "text/plain": [
              "<Figure size 432x288 with 1 Axes>"
            ]
          },
          "metadata": {
            "tags": [],
            "needs_background": "light"
          }
        },
        {
          "output_type": "stream",
          "text": [
            "letter: 1\n"
          ],
          "name": "stdout"
        },
        {
          "output_type": "display_data",
          "data": {
            "image/png": "[encoded data removed]",
            "text/plain": [
              "<Figure size 432x288 with 1 Axes>"
            ]
          },
          "metadata": {
            "tags": [],
            "needs_background": "light"
          }
        },
        {
          "output_type": "stream",
          "text": [
            "letter: 2\n"
          ],
          "name": "stdout"
        },
        {
          "output_type": "display_data",
          "data": {
            "image/png": "[encoded data removed]",
            "text/plain": [
              "<Figure size 432x288 with 1 Axes>"
            ]
          },
          "metadata": {
            "tags": [],
            "needs_background": "light"
          }
        },
        {
          "output_type": "stream",
          "text": [
            "letter: 3\n"
          ],
          "name": "stdout"
        },
        {
          "output_type": "display_data",
          "data": {
            "image/png": "[encoded data removed]",
            "text/plain": [
              "<Figure size 432x288 with 1 Axes>"
            ]
          },
          "metadata": {
            "tags": [],
            "needs_background": "light"
          }
        },
        {
          "output_type": "stream",
          "text": [
            "letter: 4\n"
          ],
          "name": "stdout"
        },
        {
          "output_type": "display_data",
          "data": {
            "image/png": "[encoded data removed]",
            "text/plain": [
              "<Figure size 432x288 with 1 Axes>"
            ]
          },
          "metadata": {
            "tags": [],
            "needs_background": "light"
          }
        },
        {
          "output_type": "stream",
          "text": [
            "letter: 5\n"
          ],
          "name": "stdout"
        },
        {
          "output_type": "display_data",
          "data": {
            "image/png": "[encoded data removed]",
            "text/plain": [
              "<Figure size 432x288 with 1 Axes>"
            ]
          },
          "metadata": {
            "tags": [],
            "needs_background": "light"
          }
        },
        {
          "output_type": "stream",
          "text": [
            "letter: 6\n"
          ],
          "name": "stdout"
        },
        {
          "output_type": "display_data",
          "data": {
            "image/png": "[encoded data removed]",
            "text/plain": [
              "<Figure size 432x288 with 1 Axes>"
            ]
          },
          "metadata": {
            "tags": [],
            "needs_background": "light"
          }
        }
      ]
    },
    {
      "cell_type": "code",
      "metadata": {
        "colab": {
          "base_uri": "https://localhost:8080/"
        },
        "id": "dcuA01IAxxSE",
        "outputId": "0e552693-5e0a-41f3-9706-437b58c4b1ef"
      },
      "source": [
        "text = 'PZAXGYJAKNTVMJLIVXXBKKEXYIFAJFAHRCYJAVFYHEJMCBSHDHHNMVUJZRXKQYZVGALSWE\\\n",
        "LFHFSMPCUBBFFUIKNGEVHPZPNFCMBUCHYMZPSRMEFYVYVNRCYHFRHRMWUPOTGCHPFJMMHC\\\n",
        "IDXTHYYVYVXVWAHEBNGBEAUBBQJKYFJGXZKYADKKFKIMUXGIJVYHTRXKBDWTXCKUMULIWQ\\\n",
        "YUCRXIDHHNLXLKUSNGGLUWFRHRMPHZMTVXOATNWIPASAYFIHPHZMKSVQZFJWSJPPAWHJMP\\\n",
        "YAWZIHYYKYMMIJPEJDISPVAUMSMAJGAXGIITQAVIUJKFATHYOHRNZYUNKBABZUPLUWYSLI\\\n",
        "HFRHRJNVYXMIZNLQNQTLAZERHRUJKMBLSWEHFRHRUJKECKIHCATNGGSXLDBXGONPFHMLYZ\\\n",
        "LBJKXGAUFRLSHPOQOKSHPSUWXWIBATNYMADAMPTMHOAOHUILYYUVXEHZDQTGSQBPDBMLUJ\\\n",
        "KFQXHUIHSNMLUPJMWUIWWBENWFSPOABXABKLJYESCPCGUGILWIXNTRXEUENVYLAZKBMIGO\\\n",
        "DQBNTJKYFJGHYJJADKEAAATNNWYKMENVYLAUQCPSLGZFXIVYRLZCVCVAYFQKIUPZFXHYLY\\\n",
        "YUCBGUHUMCBSHWSUWYVUOADDVXONLADKMHPLXUXGNQHXYKSJAYFHTRXKBDMTXUOVMBMSJN\\\n",
        "VYXMIIQYAEXVUHSEJYINUHYNKMWWUORMMTAUELTVYZLQYECUXVGCIVCRHOHTRXNPSQMPSO\\\n",
        "VYJGCWKTBJGMYOOMEXFYAUDNLTIJKUWZXIWTMADINZLYJGHZKYBAHHOYAEJGHMAYHRVIMP\\\n",
        "OMCIVIPLOCMLYLYUETGSWUPBXGONPFHHJNDLUAVYMPVYNKWNDPEQTWAAUQATXYZWABBXCR\\\n",
        "LUWGSPWAUXGXBWATJLFYAUOANGCWSFXMLYZPSRMEFAJAWHQSSLFXHGUNLMKHYNPOQBXMGL\\\n",
        "VDCTRNLYUWVMJHLERGHYAKUCBWIQYAKEMAWAUXGXIQWTXEHWECUUEMVAYFRXWCJJXDWMHC\\\n",
        "ATNKMADAFXIVCRHOHPIBWCQJEAUUZDNLTYYAQMMLYBBZMTQYJAMUKMADAAOIIILSQCHIHC\\\n",
        "HSNBRJNPHJMIWKTYDGMWWAUXGWLANMAWPYOZAOMLYILPRNQINAQLARIHVSHPLYPOQABXCO\\\n",
        "PZBMEHPTQBLEAAZFNQXMKYAUWJUOOUXGIXHLFCXVMYPFRSIHOOMEXXBAYUPAXNKJAVFYHE'\n",
        "\n",
        "key = 'HMJTEUW'\n",
        "\n",
        "def vigDecrypt(ciphertext, key):\n",
        "    decrypted = ''\n",
        "    for i, ch in enumerate(ciphertext):\n",
        "        decrypted += unshiftLetter(ch, key[i % len(key)])\n",
        "    return decrypted\n",
        "\n",
        "def unshiftLetter(letter, keyLetter):\n",
        "    letter = ord(letter) - ord(\"A\")\n",
        "    keyLetter = ord(keyLetter) - ord(\"A\")\n",
        "    new = (letter - keyLetter) % 26\n",
        "    return chr(new + ord(\"A\"))\n",
        "\n",
        "print(vigDecrypt(text, key))"
      ],
      "execution_count": 36,
      "outputs": [
        {
          "output_type": "stream",
          "text": [
            "INRECENTYEARSNEWMETHODSOFELECTRONICCOMMUNICATIONHAVETRANSFORMEDOURSOCIETYMOSTVISIBLYBYENABLINGUBIQUITOUSDIGITALCOMMUNICATIONSANDFACILITATINGBROADECOMMERCEASSUCHITISIMPORTANTFOROURGLOBALECONOMYANDOURNATIONALSECURITYTOHAVESTRONGENCRYPTIONSTANDARDSTHEDEVELOPMENTANDROBUSTADOPTIONOFSTRONGENCRYPTIONISAKEYTOOLTOSECURECOMMERCEANDTRADESAFEGUARDPRIVATEINFORMATIONPROMOTEFREEEXPRESSIONANDASSOCIATIONANDSTRENGTHENCYBERSECURITYTHEDEPARTMENTISONTHEFRONTLINESOFTHEFIGHTAGAINSTCYBERCRIMEANDWEKNOWFIRSTHANDTHEDAMAGETHATCANBECAUSEDBYTHOSEWHOEXPLOITVULNERABLEANDINSECURESYSTEMSWESUPPORTANDENCOURAGETHEUSEOFSECURENETWORKSTOPREVENTCYBERTHREATSTOOURCRITICALNATIONALINFRASTRUCTUREOURINTELLECTUALPROPERTYANDOURDATASOASTOPROMOTEOUROVERALLSAFETYAMERICANCITIZENSCAREDEEPLYABOUTPRIVACYANDRIGHTLYSOMANYCOMPANIESHAVEBEENRESPONDINGTOAMARKETDEMANDFORPRODUCTSANDSERVICESTHATPROTECTTHEPRIVACYANDSECURITYOFTHEIRCUSTOMERSTHISHASGENERATEDPOSITIVEINNOVATIONTHATHASBEENCRUCIALTOTHEDIGITALECONOMYWETOOCAREABOUTTHESEIMPORTANTPRINCIPLESINDEEDITISOUROBLIGATIONTOUPHOLDCIVILLIBERTIESINCLUDINGTHERIGHTTOPRIVACYWEHAVEALWAYSRESPECTEDTHEFUNDAMENTALRIGHTOFPEOPLETOENGAGEINPRIVATECOMMUNICATIONSREGARDLESSOFTHEMEDIUMORTECHNOLOGYWHETHERITISINSTANTMESSAGESTEXTSOROLDFASHIONEDLETTERSCITIZENSHAVETHERIGHTTOCOMMUNI\n"
          ],
          "name": "stdout"
        }
      ]
    }
  ]
}